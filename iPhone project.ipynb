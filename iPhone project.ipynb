{
 "cells": [
  {
   "cell_type": "code",
   "execution_count": 28,
   "id": "b2f37017",
   "metadata": {},
   "outputs": [],
   "source": [
    "import pandas as pd\n",
    "df = pd.read_csv('iphone.csv')"
   ]
  },
  {
   "cell_type": "markdown",
   "id": "5591fa99",
   "metadata": {},
   "source": [
    "#### 1) The column names have spaces . rename the column names to have underscore '_' instead of space (try to do in one go instead of specifying each column nam in rename method)"
   ]
  },
  {
   "cell_type": "code",
   "execution_count": 29,
   "id": "e66ec576",
   "metadata": {},
   "outputs": [],
   "source": [
    "df.columns = df.columns.str.replace(' ', '_')"
   ]
  },
  {
   "cell_type": "code",
   "execution_count": 39,
   "id": "3e84a946",
   "metadata": {},
   "outputs": [],
   "source": [
    "df = pd.read_csv('iphone.csv')\n",
    "# #df.columns[9]='RAM' # columns are immutable hence we use rename method\n",
    "# df.rename(columns={df.columns[9]: 'RAM'}, inplace=True)\n",
    "# #method 2: Assigning a New List of Column Names\n",
    "# columns = list(df.columns)\n",
    "# columns[9] = 'RAM'\n",
    "# df.columns = columns"
   ]
  },
  {
   "cell_type": "markdown",
   "id": "6cd73917",
   "metadata": {},
   "source": [
    "#### 2) start rating for some of the models is missing in the dataset. fill those missing values with the average rating all the models."
   ]
  },
  {
   "cell_type": "code",
   "execution_count": 30,
   "id": "1a12d819",
   "metadata": {
    "scrolled": true
   },
   "outputs": [
    {
     "data": {
      "text/plain": [
       "0     4.600000\n",
       "1     4.600000\n",
       "2     4.600000\n",
       "3     4.576271\n",
       "4     4.500000\n",
       "        ...   \n",
       "57    4.500000\n",
       "58    4.600000\n",
       "59    4.600000\n",
       "60    4.600000\n",
       "61    4.600000\n",
       "Name: Star_Rating, Length: 62, dtype: float64"
      ]
     },
     "execution_count": 30,
     "metadata": {},
     "output_type": "execute_result"
    }
   ],
   "source": [
    "average_rating = df['Star_Rating'].mean(skipna=True) #excluding None (missing values)\n",
    "df['Star_Rating'].fillna(average_rating)#, inplace=True)"
   ]
  },
  {
   "cell_type": "markdown",
   "id": "88107993",
   "metadata": {},
   "source": [
    "#### 3) Now instead of filling missing values with avg rating of full dataset , fill with avg rating based on RAM. example :  if rating for a 2 gb phone is missing then take average of all other 2 gb phones rating and fill that value. "
   ]
  },
  {
   "cell_type": "code",
   "execution_count": 130,
   "id": "d87ab17e",
   "metadata": {
    "scrolled": true
   },
   "outputs": [
    {
     "data": {
      "text/plain": [
       "{'Star Rating': {'2 GB': 4.541666666666666,\n",
       "  '3 GB': 4.6,\n",
       "  '4 GB': 4.589285714285714,\n",
       "  '6 GB': 4.5777777777777775}}"
      ]
     },
     "execution_count": 130,
     "metadata": {},
     "output_type": "execute_result"
    }
   ],
   "source": [
    "df.groupby('RAM').agg({'Star Rating':'mean'}).to_dict()"
   ]
  },
  {
   "cell_type": "code",
   "execution_count": 129,
   "id": "f6f06cbc",
   "metadata": {},
   "outputs": [],
   "source": [
    "#Method 1\n",
    "# Calculate the average rating for each RAM group\n",
    "average_ratings_by_ram = df.groupby('RAM')['Star Rating'].mean().reset_index()\n",
    "\n",
    "# Rename the 'Star Rating' column to 'Average Rating' for clarity\n",
    "average_ratings_by_ram.rename(columns={'Star Rating': 'Average Rating'}, inplace=True)\n",
    "\n",
    "# Perform a left join to fill missing ratings based on RAM\n",
    "df = df.merge(average_ratings_by_ram, on='RAM', how='left')\n",
    "\n",
    "# Fill missing ratings with the calculated average ratings\n",
    "df['Star Rating'].fillna(df['Average Rating'], inplace=True)\n",
    "\n",
    "#Drop the 'Average Rating' column if not needed\n",
    "df.drop(columns=['Average Rating'], inplace=True)"
   ]
  },
  {
   "cell_type": "code",
   "execution_count": 35,
   "id": "8b817a82",
   "metadata": {},
   "outputs": [],
   "source": [
    "df = pd.read_csv('iphone.csv')"
   ]
  },
  {
   "cell_type": "code",
   "execution_count": 135,
   "id": "b6e803e2",
   "metadata": {},
   "outputs": [],
   "source": [
    "#Method 2\n",
    "# Calculate the average rating for each RAM group\n",
    "average_ratings_by_ram = df.groupby('RAM')['Star Rating'].mean().to_dict()\n",
    "\n",
    "# Function to fill missing ratings based on RAM\n",
    "def fill_missing_rating(row):\n",
    "    if pd.isna(row['Star Rating']):\n",
    "        return average_ratings_by_ram.get(row['RAM'], None)\n",
    "    return row['Star Rating']\n",
    "\n",
    "# Apply the function to fill missing ratings\n",
    "df['Star Rating'] = df.apply(fill_missing_rating, axis=1)"
   ]
  },
  {
   "cell_type": "markdown",
   "id": "2559c7a6",
   "metadata": {},
   "source": []
  },
  {
   "cell_type": "markdown",
   "id": "83be0988",
   "metadata": {},
   "source": [
    "#### 4) create a new column in the dataframe \"Discount_Percentage\" based on MRP and sale value"
   ]
  },
  {
   "cell_type": "code",
   "execution_count": 136,
   "id": "2221aa79",
   "metadata": {},
   "outputs": [],
   "source": [
    "df['Discount Percentage'] = ((df['Mrp'] - df['Sale Price']) / df['Mrp']) * 100"
   ]
  },
  {
   "cell_type": "markdown",
   "id": "1d2b7bf2",
   "metadata": {},
   "source": []
  },
  {
   "cell_type": "markdown",
   "id": "4ed0018b",
   "metadata": {},
   "source": [
    "#### 5) which model has highest percent discount ?"
   ]
  },
  {
   "cell_type": "code",
   "execution_count": 138,
   "id": "5a290869",
   "metadata": {
    "scrolled": true
   },
   "outputs": [
    {
     "data": {
      "text/html": [
       "<div>\n",
       "<style scoped>\n",
       "    .dataframe tbody tr th:only-of-type {\n",
       "        vertical-align: middle;\n",
       "    }\n",
       "\n",
       "    .dataframe tbody tr th {\n",
       "        vertical-align: top;\n",
       "    }\n",
       "\n",
       "    .dataframe thead th {\n",
       "        text-align: right;\n",
       "    }\n",
       "</style>\n",
       "<table border=\"1\" class=\"dataframe\">\n",
       "  <thead>\n",
       "    <tr style=\"text-align: right;\">\n",
       "      <th></th>\n",
       "      <th>Product Name</th>\n",
       "      <th>Product URL</th>\n",
       "      <th>Brand</th>\n",
       "      <th>Sale Price</th>\n",
       "      <th>Mrp</th>\n",
       "      <th>Number Of Ratings</th>\n",
       "      <th>Number Of Reviews</th>\n",
       "      <th>Upc</th>\n",
       "      <th>Star Rating</th>\n",
       "      <th>RAM</th>\n",
       "      <th>Discount Percentage</th>\n",
       "      <th>space configuration</th>\n",
       "      <th>models</th>\n",
       "      <th>iPhone Version</th>\n",
       "      <th>iPhone Category</th>\n",
       "      <th>Color</th>\n",
       "    </tr>\n",
       "  </thead>\n",
       "  <tbody>\n",
       "    <tr>\n",
       "      <th>18</th>\n",
       "      <td>APPLE iPhone 11 Pro (Midnight Green, 64 GB)</td>\n",
       "      <td>https://www.flipkart.com/apple-iphone-11-pro-m...</td>\n",
       "      <td>Apple</td>\n",
       "      <td>74999</td>\n",
       "      <td>106600</td>\n",
       "      <td>7088</td>\n",
       "      <td>523</td>\n",
       "      <td>MOBFKCTSN3TG3RFJ</td>\n",
       "      <td>4.6</td>\n",
       "      <td>4 GB</td>\n",
       "      <td>29.644465</td>\n",
       "      <td>64 GB</td>\n",
       "      <td>11</td>\n",
       "      <td>iPhone 11</td>\n",
       "      <td>iPhone 11</td>\n",
       "      <td>Midnight Green</td>\n",
       "    </tr>\n",
       "  </tbody>\n",
       "</table>\n",
       "</div>"
      ],
      "text/plain": [
       "                                   Product Name  \\\n",
       "18  APPLE iPhone 11 Pro (Midnight Green, 64 GB)   \n",
       "\n",
       "                                          Product URL  Brand  Sale Price  \\\n",
       "18  https://www.flipkart.com/apple-iphone-11-pro-m...  Apple       74999   \n",
       "\n",
       "       Mrp  Number Of Ratings  Number Of Reviews               Upc  \\\n",
       "18  106600               7088                523  MOBFKCTSN3TG3RFJ   \n",
       "\n",
       "    Star Rating   RAM  Discount Percentage space configuration models  \\\n",
       "18          4.6  4 GB            29.644465               64 GB     11   \n",
       "\n",
       "   iPhone Version iPhone Category           Color  \n",
       "18      iPhone 11       iPhone 11  Midnight Green  "
      ]
     },
     "execution_count": 138,
     "metadata": {},
     "output_type": "execute_result"
    }
   ],
   "source": [
    "#method1\n",
    "df[df['Discount Percentage']==df['Discount Percentage'].max()]"
   ]
  },
  {
   "cell_type": "code",
   "execution_count": 47,
   "id": "3affed9b",
   "metadata": {},
   "outputs": [
    {
     "data": {
      "text/plain": [
       "('APPLE iPhone 11 Pro (Midnight Green, 64 GB)', 29.644465290806753)"
      ]
     },
     "execution_count": 47,
     "metadata": {},
     "output_type": "execute_result"
    }
   ],
   "source": [
    "#method2\n",
    "sorted_df = df.sort_values(by='Discount Percentage', ascending=False)\n",
    "model_with_highest_discount = sorted_df.iloc[0]['Product Name']\n",
    "highest_discount_percentage = sorted_df.iloc[0]['Discount Percentage']\n",
    "model_with_highest_discount,highest_discount_percentage"
   ]
  },
  {
   "cell_type": "markdown",
   "id": "90a7fc62",
   "metadata": {},
   "source": []
  },
  {
   "cell_type": "markdown",
   "id": "aa4b6679",
   "metadata": {},
   "source": [
    "#### 6) find total no of models  each space configuration (128 GB , 64 GB etc)"
   ]
  },
  {
   "cell_type": "code",
   "execution_count": 143,
   "id": "39058c37",
   "metadata": {},
   "outputs": [
    {
     "data": {
      "text/plain": [
       "'64 GB'"
      ]
     },
     "execution_count": 143,
     "metadata": {},
     "output_type": "execute_result"
    }
   ],
   "source": [
    "df['Product Name'][0].split(',')[1].split(')')[0].strip()"
   ]
  },
  {
   "cell_type": "code",
   "execution_count": 144,
   "id": "5f290f0d",
   "metadata": {},
   "outputs": [
    {
     "data": {
      "text/plain": [
       "128 GB    24\n",
       "64 GB     20\n",
       "256 GB    14\n",
       "512 GB     4\n",
       "Name: space configuration, dtype: int64"
      ]
     },
     "execution_count": 144,
     "metadata": {},
     "output_type": "execute_result"
    }
   ],
   "source": [
    "df['space configuration'] = df['Product Name'].str.split(',').str[1].str.split(')').str[0].str.strip()\n",
    "df['space configuration'].value_counts()"
   ]
  },
  {
   "cell_type": "code",
   "execution_count": 146,
   "id": "2ae3358d",
   "metadata": {
    "scrolled": true
   },
   "outputs": [
    {
     "data": {
      "text/plain": [
       "0      64 GB\n",
       "1     256 GB\n",
       "2     256 GB\n",
       "3     256 GB\n",
       "4     256 GB\n",
       "       ...  \n",
       "57     64 GB\n",
       "58     64 GB\n",
       "59     64 GB\n",
       "60     64 GB\n",
       "61     64 GB\n",
       "Name: 1, Length: 62, dtype: object"
      ]
     },
     "execution_count": 146,
     "metadata": {},
     "output_type": "execute_result"
    }
   ],
   "source": [
    "# using str.extract method with a regular expression.\n",
    "df['Product Name'].str.extract(r'\\(([^,]+), (\\d+ GB)\\)', expand=True)[1]"
   ]
  },
  {
   "cell_type": "code",
   "execution_count": 52,
   "id": "353273ba",
   "metadata": {},
   "outputs": [
    {
     "data": {
      "text/plain": [
       "4 GB    29\n",
       "6 GB    19\n",
       "2 GB    13\n",
       "3 GB     1\n",
       "Name: RAM, dtype: int64"
      ]
     },
     "execution_count": 52,
     "metadata": {},
     "output_type": "execute_result"
    }
   ],
   "source": [
    "space_configuration_counts = df['RAM'].value_counts()\n",
    "# Rename the columns for clarity\n",
    "space_configuration_counts.columns = ['Space Configuration', 'Total Models']\n",
    "space_configuration_counts"
   ]
  },
  {
   "cell_type": "markdown",
   "id": "2569fae2",
   "metadata": {},
   "source": [
    "# Regular Expressions"
   ]
  },
  {
   "cell_type": "markdown",
   "id": "b361c619",
   "metadata": {},
   "source": [
    "***Literal Characters:*** These are the simplest form of regex. For example, the regex cat will match the string “cat” in any text.\n",
    "\n",
    "***Metacharacters:*** These are special characters that have a specific meaning in regex. Some common ones are:\\\n",
    "***.***: Matches any single character except newline.\\\n",
    "***^***: Matches the start of a string.\\\n",
    "***$***: Matches the end of a string.\\\n",
    "*: Matches 0 or more repetitions of the preceding element.\\\n",
    "***+***: Matches 1 or more repetitions of the preceding element.\\\n",
    "***?***: Matches 0 or 1 repetition of the preceding element.\n",
    "\n",
    "***Character Classes:*** These allow you to match any one of a set of characters.\\\n",
    "***[abc]***: Matches any one of the characters a, b, or c.\\\n",
    "***[a-z]***: Matches any one character from a to z.\\\n",
    "***[^abc]***: Matches any character except a, b, or c.\n",
    "\n",
    "***Quantifiers:*** These specify how many times the preceding element should be matched.\\\n",
    "***{n}***: Matches exactly n times.\\\n",
    "***{n,}***: Matches at least n times.\\\n",
    "***{n,m}***: Matches between n and m times.\n",
    "\n",
    "***Groups and Alternation:*** \\\n",
    "***(...)***: Groups multiple tokens together and remembers the matched text.\\\n",
    "***|***: Acts like a logical OR to match one pattern or another.\n",
    "\n",
    "**Examples**\n",
    "\n",
    "***Simple Match:*** \\\n",
    "Regex: cat\\\n",
    "Matches: “cat” in “The cat sat on the mat.”\n",
    "\n",
    "***Any Character:*** \\\n",
    "Regex: c.t\\\n",
    "Matches: “cat”, “cot”, “cut” in “The cat sat on the cot and cut the mat.”\n",
    "\n",
    "***Start and End:*** \\\n",
    "Regex: ^cat\\\n",
    "Matches: “cat” only if it is at the start of the string.\n",
    "\n",
    "Regex: cat$\\\n",
    "Matches: “cat” only if it is at the end of the string.\n",
    "\n",
    "***Character Classes:*** \\\n",
    "Regex: [aeiou]\\\n",
    "Matches: Any vowel in the text.\n",
    "\n",
    "***Quantifiers:*** \\\n",
    "Regex: a{2,4}\\\n",
    "Matches: “aa”, “aaa”, or “aaaa” in the text."
   ]
  },
  {
   "cell_type": "code",
   "execution_count": null,
   "id": "90c5e478",
   "metadata": {},
   "outputs": [],
   "source": [
    "import re\n",
    "\n",
    "text = \"APPLE iPhone 8 Plus (Gold, 64 GB)\"\n",
    "match = re.search(r'\\(([^,]+), (\\d+ GB)\\)', text)\n",
    "if match:\n",
    "    space_config = match.group(2)\n",
    "    print(space_config)  # Output: 64 GB\n",
    "    \n",
    "# r before the string denotes a raw string => (\\) are treated as literal characters and not as escape characters.   \n",
    "# \\( and \\): Match the literal parentheses.\n",
    "# ([^,]+): Matches any characters except a comma, capturing the color.\n",
    "# (\\d+ GB): Matches one or more digits followed by \" GB\", capturing the space configuration."
   ]
  },
  {
   "cell_type": "code",
   "execution_count": null,
   "id": "96311d05",
   "metadata": {},
   "outputs": [],
   "source": [
    "text = \"APPLE iPhone 8 Plus (Gold, 64 GB)\"\n",
    "match = re.search(r'\\(([^,]+), (\\d+ GB)\\)', text)\n",
    "if match:\n",
    "    space_config = match.group(1)\n",
    "    print(space_config)  # Output: 64 GB"
   ]
  },
  {
   "cell_type": "code",
   "execution_count": null,
   "id": "ae535ba5",
   "metadata": {},
   "outputs": [],
   "source": [
    "import re\n",
    "\n",
    "text = \"APPLE iPhone 8 Plus (Gold, 64 GB)\"\n",
    "pattern = r'\\(([^)]+)\\)'\n",
    "\n",
    "match = re.search(pattern, text)\n",
    "if match:\n",
    "    content = match.group(1)\n",
    "    print(content)  # This should print: Gold, 64 GB\n",
    "else:\n",
    "    print(\"No match found\")"
   ]
  },
  {
   "cell_type": "markdown",
   "id": "2a177fe7",
   "metadata": {},
   "source": []
  },
  {
   "cell_type": "markdown",
   "id": "6af9e34b",
   "metadata": {},
   "source": [
    "#### 7) find total number of models for each color "
   ]
  },
  {
   "cell_type": "code",
   "execution_count": 110,
   "id": "d9c54248",
   "metadata": {
    "scrolled": true
   },
   "outputs": [
    {
     "data": {
      "text/plain": [
       "Black             10\n",
       "White             10\n",
       "Silver             7\n",
       "Gold               6\n",
       "Space Grey         6\n",
       "Red                5\n",
       "Midnight Green     4\n",
       "Pacific Blue       4\n",
       "Graphite           4\n",
       "Blue               2\n",
       "RED                1\n",
       "Coral              1\n",
       "Green              1\n",
       "Purple             1\n",
       "Name: Product Name, dtype: int64"
      ]
     },
     "execution_count": 110,
     "metadata": {},
     "output_type": "execute_result"
    }
   ],
   "source": [
    "df['Product Name'].str.split('(').str[1].str.split(',').str[0].value_counts()"
   ]
  },
  {
   "cell_type": "code",
   "execution_count": 114,
   "id": "3b3c5b5d",
   "metadata": {},
   "outputs": [
    {
     "data": {
      "text/html": [
       "<div>\n",
       "<style scoped>\n",
       "    .dataframe tbody tr th:only-of-type {\n",
       "        vertical-align: middle;\n",
       "    }\n",
       "\n",
       "    .dataframe tbody tr th {\n",
       "        vertical-align: top;\n",
       "    }\n",
       "\n",
       "    .dataframe thead th {\n",
       "        text-align: right;\n",
       "    }\n",
       "</style>\n",
       "<table border=\"1\" class=\"dataframe\">\n",
       "  <thead>\n",
       "    <tr style=\"text-align: right;\">\n",
       "      <th></th>\n",
       "      <th>0</th>\n",
       "      <th>1</th>\n",
       "    </tr>\n",
       "  </thead>\n",
       "  <tbody>\n",
       "    <tr>\n",
       "      <th>0</th>\n",
       "      <td>Gold</td>\n",
       "      <td>64 GB</td>\n",
       "    </tr>\n",
       "    <tr>\n",
       "      <th>1</th>\n",
       "      <td>Space Grey</td>\n",
       "      <td>256 GB</td>\n",
       "    </tr>\n",
       "    <tr>\n",
       "      <th>2</th>\n",
       "      <td>Silver</td>\n",
       "      <td>256 GB</td>\n",
       "    </tr>\n",
       "    <tr>\n",
       "      <th>3</th>\n",
       "      <td>Silver</td>\n",
       "      <td>256 GB</td>\n",
       "    </tr>\n",
       "    <tr>\n",
       "      <th>4</th>\n",
       "      <td>Gold</td>\n",
       "      <td>256 GB</td>\n",
       "    </tr>\n",
       "    <tr>\n",
       "      <th>...</th>\n",
       "      <td>...</td>\n",
       "      <td>...</td>\n",
       "    </tr>\n",
       "    <tr>\n",
       "      <th>57</th>\n",
       "      <td>Black</td>\n",
       "      <td>64 GB</td>\n",
       "    </tr>\n",
       "    <tr>\n",
       "      <th>58</th>\n",
       "      <td>Purple</td>\n",
       "      <td>64 GB</td>\n",
       "    </tr>\n",
       "    <tr>\n",
       "      <th>59</th>\n",
       "      <td>White</td>\n",
       "      <td>64 GB</td>\n",
       "    </tr>\n",
       "    <tr>\n",
       "      <th>60</th>\n",
       "      <td>Black</td>\n",
       "      <td>64 GB</td>\n",
       "    </tr>\n",
       "    <tr>\n",
       "      <th>61</th>\n",
       "      <td>Red</td>\n",
       "      <td>64 GB</td>\n",
       "    </tr>\n",
       "  </tbody>\n",
       "</table>\n",
       "<p>62 rows × 2 columns</p>\n",
       "</div>"
      ],
      "text/plain": [
       "             0       1\n",
       "0         Gold   64 GB\n",
       "1   Space Grey  256 GB\n",
       "2       Silver  256 GB\n",
       "3       Silver  256 GB\n",
       "4         Gold  256 GB\n",
       "..         ...     ...\n",
       "57       Black   64 GB\n",
       "58      Purple   64 GB\n",
       "59       White   64 GB\n",
       "60       Black   64 GB\n",
       "61         Red   64 GB\n",
       "\n",
       "[62 rows x 2 columns]"
      ]
     },
     "execution_count": 114,
     "metadata": {},
     "output_type": "execute_result"
    }
   ],
   "source": [
    "df['Product Name'].str.extract(r'\\(([^,]+), (\\d+ GB)\\)', expand=True)"
   ]
  },
  {
   "cell_type": "code",
   "execution_count": 115,
   "id": "9aca2fa5",
   "metadata": {},
   "outputs": [
    {
     "name": "stdout",
     "output_type": "stream",
     "text": [
      "             Color  Total Models\n",
      "0            Black            10\n",
      "1            White            10\n",
      "2           Silver             7\n",
      "3             Gold             6\n",
      "4       Space Grey             6\n",
      "5              Red             5\n",
      "6   Midnight Green             4\n",
      "7     Pacific Blue             4\n",
      "8         Graphite             4\n",
      "9             Blue             2\n",
      "10             RED             1\n",
      "11           Coral             1\n",
      "12           Green             1\n",
      "13          Purple             1\n"
     ]
    }
   ],
   "source": [
    "# Define a function to extract color based on a pattern\n",
    "def extract_color(product_name):\n",
    "    # Split the product name by '(' and ')' to get parts within parentheses\n",
    "    parts = product_name.split('(')\n",
    "    if len(parts) > 1:\n",
    "        # Check if the second part contains a comma (,) to identify color\n",
    "        color_part = parts[1].strip()\n",
    "        if ',' in color_part:\n",
    "            color = color_part.split(',')[0].strip()\n",
    "            return color\n",
    "    return None\n",
    "\n",
    "# Apply the extract_color function to create a 'Color' column\n",
    "df['Color'] = df['Product Name'].apply(extract_color)\n",
    "\n",
    "# Count the number of models for each color\n",
    "color_counts = df['Color'].value_counts().reset_index()\n",
    "\n",
    "# Rename the columns for clarity\n",
    "color_counts.columns = ['Color', 'Total Models']\n",
    "\n",
    "# Display the result\n",
    "print(color_counts)"
   ]
  },
  {
   "cell_type": "markdown",
   "id": "a58faf61",
   "metadata": {},
   "source": []
  },
  {
   "cell_type": "markdown",
   "id": "b5cf4ebe",
   "metadata": {},
   "source": [
    "#### 8) find total number of models by iphone version : eg- iphone 8:  9,  iphone XR : 5   so on.."
   ]
  },
  {
   "cell_type": "code",
   "execution_count": 81,
   "id": "4967145a",
   "metadata": {},
   "outputs": [
    {
     "data": {
      "text/plain": [
       "12    26\n",
       "11    16\n",
       "8      8\n",
       "SE     6\n",
       "XR     5\n",
       "XS     1\n",
       "Name: Product Name, dtype: int64"
      ]
     },
     "execution_count": 81,
     "metadata": {},
     "output_type": "execute_result"
    }
   ],
   "source": [
    "df['Product Name'].str.split().str[2].value_counts()"
   ]
  },
  {
   "cell_type": "code",
   "execution_count": 84,
   "id": "db3323a1",
   "metadata": {},
   "outputs": [],
   "source": [
    "df['models'] = df['Product Name'].str.split().str[2]"
   ]
  },
  {
   "cell_type": "code",
   "execution_count": 85,
   "id": "2e74e47b",
   "metadata": {},
   "outputs": [
    {
     "name": "stdout",
     "output_type": "stream",
     "text": [
      "  iPhone Version  Total Models\n",
      "0      iPhone 12            26\n",
      "1      iPhone 11            16\n",
      "2       iPhone 8             8\n",
      "3      iPhone SE             6\n",
      "4      iPhone XR             5\n",
      "5      iPhone XS             1\n"
     ]
    }
   ],
   "source": [
    "# Define a function to extract iPhone version\n",
    "def extract_iphone_version(product_name):\n",
    "    # Split the product name by 'iPhone' and get the part after 'iPhone'\n",
    "    parts = product_name.split('iPhone')\n",
    "    if len(parts) > 1:\n",
    "        version = parts[1].strip().split(' ')[0]\n",
    "        return 'iPhone ' + version\n",
    "    return None\n",
    "\n",
    "# Apply the extract_iphone_version function to create an 'iPhone Version' column\n",
    "df['iPhone Version'] = df['Product Name'].apply(extract_iphone_version)\n",
    "\n",
    "# Count the number of models for each iPhone version\n",
    "iphone_version_counts = df['iPhone Version'].value_counts().reset_index()\n",
    "\n",
    "# Rename the columns for clarity\n",
    "iphone_version_counts.columns = ['iPhone Version', 'Total Models']\n",
    "\n",
    "# Display the result\n",
    "print(iphone_version_counts)"
   ]
  },
  {
   "cell_type": "markdown",
   "id": "34eeea29",
   "metadata": {},
   "source": []
  },
  {
   "cell_type": "markdown",
   "id": "a3c80aff",
   "metadata": {},
   "source": [
    "#### 9) list top 5 models having highest no of reviews "
   ]
  },
  {
   "cell_type": "code",
   "execution_count": 88,
   "id": "dd9b35e5",
   "metadata": {},
   "outputs": [
    {
     "data": {
      "text/html": [
       "<div>\n",
       "<style scoped>\n",
       "    .dataframe tbody tr th:only-of-type {\n",
       "        vertical-align: middle;\n",
       "    }\n",
       "\n",
       "    .dataframe tbody tr th {\n",
       "        vertical-align: top;\n",
       "    }\n",
       "\n",
       "    .dataframe thead th {\n",
       "        text-align: right;\n",
       "    }\n",
       "</style>\n",
       "<table border=\"1\" class=\"dataframe\">\n",
       "  <thead>\n",
       "    <tr style=\"text-align: right;\">\n",
       "      <th></th>\n",
       "      <th>Number Of Reviews</th>\n",
       "    </tr>\n",
       "    <tr>\n",
       "      <th>models</th>\n",
       "      <th></th>\n",
       "    </tr>\n",
       "  </thead>\n",
       "  <tbody>\n",
       "    <tr>\n",
       "      <th>SE</th>\n",
       "      <td>48952</td>\n",
       "    </tr>\n",
       "    <tr>\n",
       "      <th>XR</th>\n",
       "      <td>33988</td>\n",
       "    </tr>\n",
       "    <tr>\n",
       "      <th>11</th>\n",
       "      <td>25965</td>\n",
       "    </tr>\n",
       "    <tr>\n",
       "      <th>8</th>\n",
       "      <td>4162</td>\n",
       "    </tr>\n",
       "    <tr>\n",
       "      <th>12</th>\n",
       "      <td>2208</td>\n",
       "    </tr>\n",
       "  </tbody>\n",
       "</table>\n",
       "</div>"
      ],
      "text/plain": [
       "        Number Of Reviews\n",
       "models                   \n",
       "SE                  48952\n",
       "XR                  33988\n",
       "11                  25965\n",
       "8                    4162\n",
       "12                   2208"
      ]
     },
     "execution_count": 88,
     "metadata": {},
     "output_type": "execute_result"
    }
   ],
   "source": [
    "df.groupby('models').agg({'Number Of Reviews': sum}).sort_values(by='Number Of Reviews',ascending=False).head(5)"
   ]
  },
  {
   "cell_type": "markdown",
   "id": "61d29c8e",
   "metadata": {},
   "source": []
  },
  {
   "cell_type": "markdown",
   "id": "c240df12",
   "metadata": {},
   "source": [
    "#### 10) what is the price diffrence between highest price and lowest price iphone (based on mrp)"
   ]
  },
  {
   "cell_type": "code",
   "execution_count": 102,
   "id": "c43c8ee8",
   "metadata": {},
   "outputs": [
    {
     "data": {
      "text/plain": [
       "110000"
      ]
     },
     "execution_count": 102,
     "metadata": {},
     "output_type": "execute_result"
    }
   ],
   "source": [
    "max_mrp= df.sort_values(by='Mrp').tail(1)['Mrp'].values[0] \n",
    "min_mrp= df.sort_values(by='Mrp').head(1)['Mrp'].values[0]\n",
    "max_mrp-min_mrp\n",
    "#values[0] part extracts the actual value from the resulting Series."
   ]
  },
  {
   "cell_type": "code",
   "execution_count": 100,
   "id": "244f8517",
   "metadata": {},
   "outputs": [
    {
     "data": {
      "text/plain": [
       "110000"
      ]
     },
     "execution_count": 100,
     "metadata": {},
     "output_type": "execute_result"
    }
   ],
   "source": [
    "# Find the highest and lowest MRP values\n",
    "highest_mrp = df['Mrp'].max()\n",
    "lowest_mrp = df['Mrp'].min()\n",
    "price_difference = highest_mrp - lowest_mrp\n",
    "price_difference"
   ]
  },
  {
   "cell_type": "markdown",
   "id": "0c7b37b9",
   "metadata": {},
   "source": [
    "#### 11) find total no of reviews for iphone 11 and iphone 12 category . Output should have only 2 rows (for 11 and 12)."
   ]
  },
  {
   "cell_type": "code",
   "execution_count": 147,
   "id": "a64b68b4",
   "metadata": {
    "scrolled": true
   },
   "outputs": [
    {
     "data": {
      "text/html": [
       "<div>\n",
       "<style scoped>\n",
       "    .dataframe tbody tr th:only-of-type {\n",
       "        vertical-align: middle;\n",
       "    }\n",
       "\n",
       "    .dataframe tbody tr th {\n",
       "        vertical-align: top;\n",
       "    }\n",
       "\n",
       "    .dataframe thead th {\n",
       "        text-align: right;\n",
       "    }\n",
       "</style>\n",
       "<table border=\"1\" class=\"dataframe\">\n",
       "  <thead>\n",
       "    <tr style=\"text-align: right;\">\n",
       "      <th></th>\n",
       "      <th>models</th>\n",
       "      <th>Number Of Reviews</th>\n",
       "    </tr>\n",
       "  </thead>\n",
       "  <tbody>\n",
       "    <tr>\n",
       "      <th>0</th>\n",
       "      <td>11</td>\n",
       "      <td>25965</td>\n",
       "    </tr>\n",
       "    <tr>\n",
       "      <th>1</th>\n",
       "      <td>12</td>\n",
       "      <td>2208</td>\n",
       "    </tr>\n",
       "  </tbody>\n",
       "</table>\n",
       "</div>"
      ],
      "text/plain": [
       "  models  Number Of Reviews\n",
       "0     11              25965\n",
       "1     12               2208"
      ]
     },
     "execution_count": 147,
     "metadata": {},
     "output_type": "execute_result"
    }
   ],
   "source": [
    "df[df['models'].isin(['11', '12'])].groupby('models').agg({'Number Of Reviews': 'sum'}).reset_index()"
   ]
  },
  {
   "cell_type": "code",
   "execution_count": 107,
   "id": "9f723045",
   "metadata": {},
   "outputs": [
    {
     "name": "stdout",
     "output_type": "stream",
     "text": [
      "  iPhone Category  Number Of Reviews\n",
      "1       iPhone 11              25965\n",
      "2       iPhone 12               2208\n"
     ]
    }
   ],
   "source": [
    "#method1:\n",
    "# Categorize products based on 'Product Name' using str.contains\n",
    "df['iPhone Category'] = 'Other'\n",
    "df.loc[df['Product Name'].str.contains('iPhone 11', case=False), 'iPhone Category'] = 'iPhone 11'\n",
    "df.loc[df['Product Name'].str.contains('iPhone 12', case=False), 'iPhone Category'] = 'iPhone 12'\n",
    "\n",
    "# Group by 'iPhone Category' and calculate the total number of reviews for each category\n",
    "category_reviews = df.groupby('iPhone Category')['Number Of Reviews'].sum().reset_index()\n",
    "\n",
    "# Filter for 'iPhone 11' and 'iPhone 12' categories\n",
    "result_df = category_reviews[category_reviews['iPhone Category'].isin(['iPhone 11', 'iPhone 12'])]\n",
    "\n",
    "# Display the result\n",
    "print(result_df)\n",
    "#In this code, we use str.contains to categorize products based on the 'Product Name' column without using lambda or numpy. The rest of the process remains the same, resulting in a DataFrame with two rows for 'iPhone 11' and 'iPhone 12' categories.\n"
   ]
  },
  {
   "cell_type": "code",
   "execution_count": 108,
   "id": "7c701ea7",
   "metadata": {},
   "outputs": [
    {
     "data": {
      "text/html": [
       "<div>\n",
       "<style scoped>\n",
       "    .dataframe tbody tr th:only-of-type {\n",
       "        vertical-align: middle;\n",
       "    }\n",
       "\n",
       "    .dataframe tbody tr th {\n",
       "        vertical-align: top;\n",
       "    }\n",
       "\n",
       "    .dataframe thead th {\n",
       "        text-align: right;\n",
       "    }\n",
       "</style>\n",
       "<table border=\"1\" class=\"dataframe\">\n",
       "  <thead>\n",
       "    <tr style=\"text-align: right;\">\n",
       "      <th></th>\n",
       "      <th>iPhone Category</th>\n",
       "      <th>Total Reviews</th>\n",
       "    </tr>\n",
       "  </thead>\n",
       "  <tbody>\n",
       "    <tr>\n",
       "      <th>0</th>\n",
       "      <td>iPhone 11</td>\n",
       "      <td>25965</td>\n",
       "    </tr>\n",
       "    <tr>\n",
       "      <th>1</th>\n",
       "      <td>iPhone 12</td>\n",
       "      <td>2208</td>\n",
       "    </tr>\n",
       "  </tbody>\n",
       "</table>\n",
       "</div>"
      ],
      "text/plain": [
       "  iPhone Category  Total Reviews\n",
       "0       iPhone 11          25965\n",
       "1       iPhone 12           2208"
      ]
     },
     "execution_count": 108,
     "metadata": {},
     "output_type": "execute_result"
    }
   ],
   "source": [
    "#method2:\n",
    "\n",
    "# Filter the DataFrame for iPhone 11 and iPhone 12 categories\n",
    "iphone_11_reviews = df[df['Product Name'].str.contains('iPhone 11', case=False)]\n",
    "iphone_12_reviews = df[df['Product Name'].str.contains('iPhone 12', case=False)]\n",
    "\n",
    "# Calculate the total number of reviews for each category\n",
    "total_reviews_11 = iphone_11_reviews['Number Of Reviews'].sum()\n",
    "total_reviews_12 = iphone_12_reviews['Number Of Reviews'].sum()\n",
    "\n",
    "# Create a new DataFrame with the results\n",
    "result_df = pd.DataFrame({\n",
    "    'iPhone Category': ['iPhone 11', 'iPhone 12'],\n",
    "    'Total Reviews': [total_reviews_11, total_reviews_12]\n",
    "})\n",
    "result_df"
   ]
  },
  {
   "cell_type": "markdown",
   "id": "231e3b4d",
   "metadata": {},
   "source": [
    "#### 12) which iphone has 3rd highest MRP"
   ]
  },
  {
   "cell_type": "code",
   "execution_count": 78,
   "id": "e03f6d40",
   "metadata": {},
   "outputs": [
    {
     "name": "stdout",
     "output_type": "stream",
     "text": [
      "Product Name                APPLE iPhone 11 Pro (Midnight Green, 512 GB)\n",
      "Product URL            https://www.flipkart.com/apple-iphone-11-pro-m...\n",
      "Brand                                                              Apple\n",
      "Sale Price                                                        117900\n",
      "Mrp                                                               140300\n",
      "Number Of Ratings                                                   7088\n",
      "Number Of Reviews                                                    523\n",
      "Upc                                                     MOBFKCTSSJCWYGCC\n",
      "Star Rating                                                          4.6\n",
      "RAM                                                                 4 GB\n",
      "Discount Percentage                                            15.965788\n",
      "space configuration                                               512 GB\n",
      "Name: 2, dtype: object\n"
     ]
    }
   ],
   "source": [
    "# Sort the DataFrame by 'Mrp' column in descending order and reset the index\n",
    "sorted_df = df.sort_values(by='Mrp', ascending=False).reset_index(drop=True)\n",
    "\n",
    "# Get the iPhone with the 3rd highest MRP\n",
    "third_highest_mrp_iphone = sorted_df.loc[2]\n",
    "\n",
    "# Print the details of the iPhone with the 3rd highest MRP\n",
    "print(third_highest_mrp_iphone)"
   ]
  },
  {
   "cell_type": "markdown",
   "id": "be328414",
   "metadata": {},
   "source": [
    "#### 13) what is the average mrp of iphones which costs above 100,000"
   ]
  },
  {
   "cell_type": "code",
   "execution_count": 76,
   "id": "7bdd1fa8",
   "metadata": {},
   "outputs": [
    {
     "data": {
      "text/plain": [
       "130559.09090909091"
      ]
     },
     "execution_count": 76,
     "metadata": {},
     "output_type": "execute_result"
    }
   ],
   "source": [
    "df[df['Mrp']>100000]['Mrp'].mean()"
   ]
  },
  {
   "cell_type": "markdown",
   "id": "3371c9f9",
   "metadata": {},
   "source": []
  },
  {
   "cell_type": "markdown",
   "id": "3a659a66",
   "metadata": {},
   "source": [
    "#### 14) which iphone with 128 GB space has highest ratings to review ratio"
   ]
  },
  {
   "cell_type": "code",
   "execution_count": 70,
   "id": "761e01a3",
   "metadata": {
    "scrolled": false
   },
   "outputs": [
    {
     "data": {
      "text/html": [
       "<div>\n",
       "<style scoped>\n",
       "    .dataframe tbody tr th:only-of-type {\n",
       "        vertical-align: middle;\n",
       "    }\n",
       "\n",
       "    .dataframe tbody tr th {\n",
       "        vertical-align: top;\n",
       "    }\n",
       "\n",
       "    .dataframe thead th {\n",
       "        text-align: right;\n",
       "    }\n",
       "</style>\n",
       "<table border=\"1\" class=\"dataframe\">\n",
       "  <thead>\n",
       "    <tr style=\"text-align: right;\">\n",
       "      <th></th>\n",
       "      <th>Product Name</th>\n",
       "      <th>Product URL</th>\n",
       "      <th>Brand</th>\n",
       "      <th>Sale Price</th>\n",
       "      <th>Mrp</th>\n",
       "      <th>Number Of Ratings</th>\n",
       "      <th>Number Of Reviews</th>\n",
       "      <th>Upc</th>\n",
       "      <th>Star Rating</th>\n",
       "      <th>RAM</th>\n",
       "      <th>Discount Percentage</th>\n",
       "      <th>space configuration</th>\n",
       "      <th>r2r</th>\n",
       "    </tr>\n",
       "  </thead>\n",
       "  <tbody>\n",
       "    <tr>\n",
       "      <th>56</th>\n",
       "      <td>APPLE iPhone 11 (Black, 128 GB)</td>\n",
       "      <td>https://www.flipkart.com/apple-iphone-11-black...</td>\n",
       "      <td>Apple</td>\n",
       "      <td>54999</td>\n",
       "      <td>59900</td>\n",
       "      <td>43470</td>\n",
       "      <td>3331</td>\n",
       "      <td>MOBFWQ6BKRYBP5X8</td>\n",
       "      <td>4.6</td>\n",
       "      <td>4 GB</td>\n",
       "      <td>8.18197</td>\n",
       "      <td>128 GB</td>\n",
       "      <td>13.050135</td>\n",
       "    </tr>\n",
       "  </tbody>\n",
       "</table>\n",
       "</div>"
      ],
      "text/plain": [
       "                       Product Name  \\\n",
       "56  APPLE iPhone 11 (Black, 128 GB)   \n",
       "\n",
       "                                          Product URL  Brand  Sale Price  \\\n",
       "56  https://www.flipkart.com/apple-iphone-11-black...  Apple       54999   \n",
       "\n",
       "      Mrp  Number Of Ratings  Number Of Reviews               Upc  \\\n",
       "56  59900              43470               3331  MOBFWQ6BKRYBP5X8   \n",
       "\n",
       "    Star Rating   RAM  Discount Percentage space configuration        r2r  \n",
       "56          4.6  4 GB              8.18197              128 GB  13.050135  "
      ]
     },
     "execution_count": 70,
     "metadata": {},
     "output_type": "execute_result"
    }
   ],
   "source": [
    "df_128 = df[df['space configuration'] == '128 GB'].copy()\n",
    "df_128['r2r'] = df_128['Number Of Ratings'] / df_128['Number Of Reviews']\n",
    "df_128.sort_values(by='r2r',ascending =False).head(1)"
   ]
  },
  {
   "cell_type": "markdown",
   "id": "9b1e60e4",
   "metadata": {},
   "source": [
    "### idxmax(axis=0, skipna=True)"
   ]
  },
  {
   "cell_type": "code",
   "execution_count": 75,
   "id": "1a4c5848",
   "metadata": {},
   "outputs": [
    {
     "data": {
      "text/plain": [
       "Product Name                                  APPLE iPhone 11 (Black, 128 GB)\n",
       "Product URL                 https://www.flipkart.com/apple-iphone-11-black...\n",
       "Brand                                                                   Apple\n",
       "Sale Price                                                              54999\n",
       "Mrp                                                                     59900\n",
       "Number Of Ratings                                                       43470\n",
       "Number Of Reviews                                                        3331\n",
       "Upc                                                          MOBFWQ6BKRYBP5X8\n",
       "Star Rating                                                               4.6\n",
       "RAM                                                                      4 GB\n",
       "Discount Percentage                                                   8.18197\n",
       "space configuration                                                    128 GB\n",
       "Ratings to Reviews Ratio                                            13.050135\n",
       "Name: 56, dtype: object"
      ]
     },
     "execution_count": 75,
     "metadata": {},
     "output_type": "execute_result"
    }
   ],
   "source": [
    "# Filter the DataFrame to include only iPhones with 128 GB of space\n",
    "iphone_128gb = df[df['space configuration'] == '128 GB'].copy()\n",
    "\n",
    "# Calculate the ratings-to-reviews ratio for each iPhone\n",
    "iphone_128gb['Ratings to Reviews Ratio'] = iphone_128gb['Number Of Ratings'] / iphone_128gb['Number Of Reviews']\n",
    "\n",
    "# Find the iPhone with the highest ratings-to-reviews ratio\n",
    "highest_ratio_iphone = iphone_128gb.loc[iphone_128gb['Ratings to Reviews Ratio'].idxmax()] #idxmax returns the index of max\n",
    "highest_ratio_iphone"
   ]
  },
  {
   "cell_type": "code",
   "execution_count": null,
   "id": "27c1109d",
   "metadata": {},
   "outputs": [],
   "source": []
  }
 ],
 "metadata": {
  "kernelspec": {
   "display_name": "Python 3 (ipykernel)",
   "language": "python",
   "name": "python3"
  },
  "language_info": {
   "codemirror_mode": {
    "name": "ipython",
    "version": 3
   },
   "file_extension": ".py",
   "mimetype": "text/x-python",
   "name": "python",
   "nbconvert_exporter": "python",
   "pygments_lexer": "ipython3",
   "version": "3.11.1"
  }
 },
 "nbformat": 4,
 "nbformat_minor": 5
}
